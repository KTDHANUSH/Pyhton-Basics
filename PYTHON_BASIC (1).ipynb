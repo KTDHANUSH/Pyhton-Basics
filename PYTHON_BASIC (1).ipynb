{
  "nbformat": 4,
  "nbformat_minor": 0,
  "metadata": {
    "colab": {
      "provenance": []
    },
    "kernelspec": {
      "name": "python3",
      "display_name": "Python 3"
    },
    "language_info": {
      "name": "python"
    }
  },
  "cells": [
    {
      "cell_type": "code",
      "execution_count": null,
      "metadata": {
        "id": "JkekRd7P1ZFp"
      },
      "outputs": [],
      "source": []
    },
    {
      "cell_type": "markdown",
      "source": [
        "#Pyhton Basic\n"
      ],
      "metadata": {
        "id": "LR4JBIZN4vfk"
      }
    },
    {
      "cell_type": "markdown",
      "source": [
        "**Theory Question**"
      ],
      "metadata": {
        "id": "D82eEioqBZU9"
      }
    },
    {
      "cell_type": "markdown",
      "source": [
        "***1. What is Python, and why is it popular?***\n",
        "\n",
        "Python is a high-level, interpreted programming language known for its clear and readable syntax. It’s popular because it’s easy to learn, works across platforms, and supports multiple programming styles like procedural, object-oriented, and functional. It’s widely used in fields like web development, data science, AI, automation, and more—basically, it’s everywhere!\n",
        "\n",
        "**2. What is an interpreter in Python?**\n",
        "\n",
        "An interpreter in Python is a program that reads and executes code line by line. Instead of compiling the entire code beforehand, the interpreter processes one instruction at a time, which makes debugging easier and development faster.\n",
        "\n",
        "**3. What are pre-defined keywords in Python?**\n",
        "Pre-defined keywords in Python are special reserved words that have specific meanings and purposes in the language. For example, if, else, for, while, def, and return. These words are part of the language syntax and cannot be used for anything else like naming variables.\n",
        "\n",
        "**4. Can keywords be used as variable names?**\n",
        "\n",
        "Nope. Keywords are off-limits when it comes to naming your variables. Trying to use them will throw a syntax error. It’s like naming your dog “print” and wondering why it keeps confusing everyone.\n",
        "\n",
        "**5. What is mutability in Python?**\n",
        "\n",
        "Mutability refers to whether an object can be changed after it's created. If an object is mutable, its content can be modified. If it's immutable, it stays fixed once defined. Lists are mutable. Tuples, strings, and numbers are not.\n",
        "\n",
        "**6. Why are lists mutable, but tuples are immutable?**\n",
        "\n",
        "Lists are designed to store a dynamic collection of items that may change during a program's execution, which is why they're mutable. Tuples, on the other hand, are used for fixed data that shouldn't be altered, which is why they are immutable—Python uses this for data safety and performance optimization.\n",
        "\n",
        "**7. What is the difference between “==” and “is” operators in Python?**\n",
        "\n",
        "== checks if two values are equal in content.\n",
        "\n",
        "**8. What are logical operators in Python?**\n",
        "\n",
        "Logical operators are used to combine multiple conditions:\n",
        "\n",
        "and – True if both conditions are true\n",
        "\n",
        "or – True if at least one condition is true\n",
        "\n",
        "not – Reverses the condition (True becomes False, and vice versa)\n",
        "\n",
        "**9. What is type casting in Python?**\n",
        "\n",
        "Type casting means converting one data type into another. For example, converting a string into an integer using int(), or a float to a string using str().\n",
        "\n",
        "**10. What is the difference between implicit and explicit type casting?**\n",
        "\n",
        "Implicit casting is done automatically by Python (e.g., converting int to float during operations).\n",
        "\n",
        "Explicit casting is done manually by the programmer using functions like int(), float(), or str().\n",
        "\n",
        "**11. What is the purpose of conditional statements in Python?**\n",
        "\n",
        "Conditional statements allow you to control the flow of a program by making decisions. Based on certain conditions being true or false, different blocks of code can be executed using if, elif, and else.\n",
        "\n",
        "**12. How does the elif statement work?**\n",
        "\n",
        "elif (short for \"else if\") lets you check multiple conditions after an initial if. If the if condition is false, Python checks the elif ones in order, and runs the first one that’s true. It helps avoid long chains of if...else.\n",
        "\n",
        "**13. What is the difference between for and while loops?**\n",
        "\n",
        "for loops are used when you know how many times to repeat a block (like iterating through a list).\n",
        "\n",
        "while loops are used when the number of repetitions depends on a condition being true—it keeps running until the condition becomes false.\n",
        "\n",
        "**14. Describe a scenario where a while loop is more suitable than a for loop.**\n",
        "\n",
        "If you're waiting for user input to meet a condition—like entering a password or choosing a valid option—a while loop is better because you don’t know how many attempts the user will take."
      ],
      "metadata": {
        "id": "epf4x9wd43jL"
      }
    },
    {
      "cell_type": "markdown",
      "source": [],
      "metadata": {
        "id": "TUqhLh4V72hz"
      }
    },
    {
      "cell_type": "code",
      "source": [
        "#7. example\n",
        "#is checks if two variables point to the exact same object in memory.\n",
        "\n",
        "a = [1, 2]\n",
        "b = [1, 2]\n",
        "a == b   # True (values are equal)\n",
        "a is b   # False (they are different objects)\n"
      ],
      "metadata": {
        "colab": {
          "base_uri": "https://localhost:8080/"
        },
        "id": "16xYnCtx66qB",
        "outputId": "6bec77c9-cba3-48ca-cb07-19a40ecd1e95"
      },
      "execution_count": 4,
      "outputs": [
        {
          "output_type": "execute_result",
          "data": {
            "text/plain": [
              "False"
            ]
          },
          "metadata": {},
          "execution_count": 4
        }
      ]
    },
    {
      "cell_type": "markdown",
      "source": [
        "# **Practical Questions**"
      ],
      "metadata": {
        "id": "nd9J_q4843gI"
      }
    },
    {
      "cell_type": "markdown",
      "source": [],
      "metadata": {
        "id": "rk5VbcMC43dn"
      }
    },
    {
      "cell_type": "code",
      "source": [
        "#1. Write a Python program to print \"Hello, World!\"\n",
        "print(\"Hello, World!\")\n"
      ],
      "metadata": {
        "id": "UFt2d2PC94Av",
        "outputId": "9f51c21c-cd2c-414d-e269-e4a560aab1f0",
        "colab": {
          "base_uri": "https://localhost:8080/"
        }
      },
      "execution_count": 5,
      "outputs": [
        {
          "output_type": "stream",
          "name": "stdout",
          "text": [
            "Hello, World!\n"
          ]
        }
      ]
    },
    {
      "cell_type": "code",
      "source": [
        "#2. Write a Python program that displays your name and age.\n",
        "name = \" KT Dhanush\"\n",
        "age = 20\n",
        "print(\"My name is\", name)\n",
        "print(\"I am\", age, \"years old\")\n"
      ],
      "metadata": {
        "id": "CZrtdI8J-UJS",
        "outputId": "9cf80577-6f40-4fc5-83ea-b1f76849d1aa",
        "colab": {
          "base_uri": "https://localhost:8080/"
        }
      },
      "execution_count": 6,
      "outputs": [
        {
          "output_type": "stream",
          "name": "stdout",
          "text": [
            "My name is  KT Dhanush\n",
            "I am 20 years old\n"
          ]
        }
      ]
    },
    {
      "cell_type": "code",
      "source": [
        "#3.Write code to print all the pre-defined keywords in Python using the keyword library\n",
        "import keyword\n",
        "print(\"Python Keywords:\")\n",
        "print(keyword.kwlist)\n"
      ],
      "metadata": {
        "id": "yVRfhwqW-XWw",
        "outputId": "1b404bb1-3e08-45e8-b565-bfc3dcebc7cf",
        "colab": {
          "base_uri": "https://localhost:8080/"
        }
      },
      "execution_count": 7,
      "outputs": [
        {
          "output_type": "stream",
          "name": "stdout",
          "text": [
            "Python Keywords:\n",
            "['False', 'None', 'True', 'and', 'as', 'assert', 'async', 'await', 'break', 'class', 'continue', 'def', 'del', 'elif', 'else', 'except', 'finally', 'for', 'from', 'global', 'if', 'import', 'in', 'is', 'lambda', 'nonlocal', 'not', 'or', 'pass', 'raise', 'return', 'try', 'while', 'with', 'yield']\n"
          ]
        }
      ]
    },
    {
      "cell_type": "code",
      "source": [
        "#4.Write a program that checks if a given word is a Python keyword.\n",
        "import keyword\n",
        "\n",
        "word = input(\"Enter a word: \")\n",
        "if keyword.iskeyword(word):\n",
        "    print(word, \"is a Python keyword.\")\n",
        "else:\n",
        "    print(word, \"is not a Python keyword.\")\n",
        "\n",
        "\n"
      ],
      "metadata": {
        "id": "091Bmpup-XlH",
        "outputId": "3d1f7cae-7e35-432c-8092-97e4eae1f07f",
        "colab": {
          "base_uri": "https://localhost:8080/"
        }
      },
      "execution_count": 10,
      "outputs": [
        {
          "output_type": "stream",
          "name": "stdout",
          "text": [
            "Enter a word: class\n",
            "class is a Python keyword.\n"
          ]
        }
      ]
    },
    {
      "cell_type": "code",
      "source": [
        "#5. Create a list and tuple in Python, and demonstrate how attempting to change an element works differently\n",
        "#for each.\n",
        "\n",
        "def change_values(num, my_list):\n",
        "    num += 10\n",
        "    my_list.append(99)\n",
        "    print(\"Inside function:\", num, my_list)\n",
        "\n",
        "x = 5\n",
        "y = [1, 2, 3]\n",
        "\n",
        "change_values(x, y)\n",
        "print(\"Outside function:\", x, y)\n"
      ],
      "metadata": {
        "id": "z2139MZ7-Xnt",
        "outputId": "155048e8-a5cd-4f8e-ea37-f104382967f0",
        "colab": {
          "base_uri": "https://localhost:8080/"
        }
      },
      "execution_count": 12,
      "outputs": [
        {
          "output_type": "stream",
          "name": "stdout",
          "text": [
            "Inside function: 15 [1, 2, 3, 99]\n",
            "Outside function: 5 [1, 2, 3, 99]\n"
          ]
        }
      ]
    },
    {
      "cell_type": "code",
      "source": [
        "#6. Write a function to demonstrate the behavior of mutable and immutable arguments\n",
        "a = float(input(\"Enter first number: \"))\n",
        "b = float(input(\"Enter second number: \"))\n",
        "\n",
        "print(\"Sum:\", a + b)\n",
        "print(\"Difference:\", a - b)\n",
        "print(\"Product:\", a * b)\n",
        "print(\"Quotient:\", a / b)\n"
      ],
      "metadata": {
        "id": "g3aVaSWu-Xqm",
        "outputId": "bd51894c-c505-4b44-9717-d0e9e67a3f3b",
        "colab": {
          "base_uri": "https://localhost:8080/"
        }
      },
      "execution_count": 13,
      "outputs": [
        {
          "output_type": "stream",
          "name": "stdout",
          "text": [
            "Enter first number: 1\n",
            "Enter second number: 2\n",
            "Sum: 3.0\n",
            "Difference: -1.0\n",
            "Product: 2.0\n",
            "Quotient: 0.5\n"
          ]
        }
      ]
    },
    {
      "cell_type": "code",
      "source": [
        "#7. Write a program that performs basic arithmetic operations on two user-input numbers.\n",
        "a = 10\n",
        "b = 20\n",
        "\n",
        "print(a > 5 and b > 10)  # True\n",
        "print(a < 5 or b > 10)   # True\n",
        "print(not(a == b))       # True\n"
      ],
      "metadata": {
        "id": "bLfoC9If-Xsq",
        "outputId": "bb3b0f39-778f-4c85-bba7-8e106f376a7e",
        "colab": {
          "base_uri": "https://localhost:8080/"
        }
      },
      "execution_count": 14,
      "outputs": [
        {
          "output_type": "stream",
          "name": "stdout",
          "text": [
            "True\n",
            "True\n",
            "True\n"
          ]
        }
      ]
    },
    {
      "cell_type": "code",
      "source": [
        "#8. Write a program to demonstrate the use of logical operators.\n",
        "my_list = [1, 2, 3]\n",
        "my_tuple = (1, 2, 3)\n",
        "\n",
        "my_list[0] = 100  # Allowed\n",
        "\n",
        "print(\"Modified list:\", my_list)\n",
        "\n",
        "try:\n",
        "    my_tuple[0] = 100  # Not allowed\n",
        "except TypeError:\n",
        "    print(\"Tuples can't be modified!\")\n"
      ],
      "metadata": {
        "id": "m-Adom29-XwC",
        "outputId": "df6b1d3a-22ea-4530-d1f4-0f8f1b2bf148",
        "colab": {
          "base_uri": "https://localhost:8080/"
        }
      },
      "execution_count": 15,
      "outputs": [
        {
          "output_type": "stream",
          "name": "stdout",
          "text": [
            "Modified list: [100, 2, 3]\n",
            "Tuples can't be modified!\n"
          ]
        }
      ]
    },
    {
      "cell_type": "code",
      "source": [
        "#9. Write a Python program to convert user input from string to integer, float, and boolean types.\n",
        "data = input(\"Enter something: \")\n",
        "\n",
        "int_value = int(data)\n",
        "float_value = float(data)\n",
        "bool_value = bool(data)\n",
        "\n",
        "print(\"As Integer:\", int_value)\n",
        "print(\"As Float:\", float_value)\n",
        "print(\"As Boolean:\", bool_value)\n"
      ],
      "metadata": {
        "id": "A2D78Opj-XyX",
        "outputId": "c84be2d7-4128-43ef-e11f-ca665b4b8f09",
        "colab": {
          "base_uri": "https://localhost:8080/"
        }
      },
      "execution_count": 16,
      "outputs": [
        {
          "output_type": "stream",
          "name": "stdout",
          "text": [
            "Enter something: 2\n",
            "As Integer: 2\n",
            "As Float: 2.0\n",
            "As Boolean: True\n"
          ]
        }
      ]
    },
    {
      "cell_type": "code",
      "source": [
        "#10. Write code to demonstrate type casting with list elements.\n",
        "my_list = ['10', '20', '30']\n",
        "converted_list = [int(i) for i in my_list]\n",
        "\n",
        "print(\"Original:\", my_list)\n",
        "print(\"After Type Casting:\", converted_list)\n"
      ],
      "metadata": {
        "id": "B4ss-46P-X_N",
        "outputId": "bde73781-9f2f-4abc-d7ef-25616767aac8",
        "colab": {
          "base_uri": "https://localhost:8080/"
        }
      },
      "execution_count": 17,
      "outputs": [
        {
          "output_type": "stream",
          "name": "stdout",
          "text": [
            "Original: ['10', '20', '30']\n",
            "After Type Casting: [10, 20, 30]\n"
          ]
        }
      ]
    },
    {
      "cell_type": "code",
      "source": [
        "#11. Write a program that checks if a number is positive, negative, or zero.\n",
        "num = float(input(\"Enter a number: \"))\n",
        "\n",
        "if num > 0:\n",
        "    print(\"Positive\")\n",
        "elif num < 0:\n",
        "    print(\"Negative\")\n",
        "else:\n",
        "    print(\"Zero\")\n"
      ],
      "metadata": {
        "id": "wdwB26Nc-YLD",
        "outputId": "7f17375e-4a7d-4d99-a7fd-6579a6d242de",
        "colab": {
          "base_uri": "https://localhost:8080/"
        }
      },
      "execution_count": 18,
      "outputs": [
        {
          "output_type": "stream",
          "name": "stdout",
          "text": [
            "Enter a number: 7\n",
            "Positive\n"
          ]
        }
      ]
    },
    {
      "cell_type": "code",
      "source": [
        "#12. Write a for loop to print numbers from 1 to 10\n",
        "for i in range(1, 11):\n",
        "    print(i)\n",
        "\n"
      ],
      "metadata": {
        "id": "0pFVCFm--YNr",
        "outputId": "44f804d2-a7ed-4f3e-def1-d0820ada4170",
        "colab": {
          "base_uri": "https://localhost:8080/"
        }
      },
      "execution_count": 19,
      "outputs": [
        {
          "output_type": "stream",
          "name": "stdout",
          "text": [
            "1\n",
            "2\n",
            "3\n",
            "4\n",
            "5\n",
            "6\n",
            "7\n",
            "8\n",
            "9\n",
            "10\n"
          ]
        }
      ]
    },
    {
      "cell_type": "code",
      "source": [
        "#13. Write a Python program to find the sum of all even numbers between 1 and 50.\n",
        "total = 0\n",
        "for i in range(2, 51, 2):\n",
        "    total += i\n",
        "print(\"Sum of even numbers between 1 and 50 is:\", total)\n"
      ],
      "metadata": {
        "id": "eW63Jpe5-YQ1",
        "outputId": "45e91d67-bf15-4f93-f2e8-1d44bdace748",
        "colab": {
          "base_uri": "https://localhost:8080/"
        }
      },
      "execution_count": 20,
      "outputs": [
        {
          "output_type": "stream",
          "name": "stdout",
          "text": [
            "Sum of even numbers between 1 and 50 is: 650\n"
          ]
        }
      ]
    },
    {
      "cell_type": "code",
      "source": [
        "#14. Write a program to reverse a string using a while loop.\n",
        "text = input(\"Enter a string: \")\n",
        "reversed_text = \"\"\n",
        "i = len(text) - 1\n",
        "\n",
        "while i >= 0:\n",
        "    reversed_text += text[i]\n",
        "    i -= 1\n",
        "\n",
        "print(\"Reversed string:\", reversed_text)\n"
      ],
      "metadata": {
        "id": "Yj78FvIsAYG_",
        "outputId": "d96a789c-f7f4-4343-80c7-ed7ab1358163",
        "colab": {
          "base_uri": "https://localhost:8080/"
        }
      },
      "execution_count": 21,
      "outputs": [
        {
          "output_type": "stream",
          "name": "stdout",
          "text": [
            "Enter a string: MESSI\n",
            "Reversed string: ISSEM\n"
          ]
        }
      ]
    },
    {
      "cell_type": "code",
      "source": [
        "#15. Write a Python program to calculate the factorial of a number provided by the user using a while loop\n",
        "num = int(input(\"Enter a number: \"))\n",
        "factorial = 1\n",
        "i = 1\n",
        "\n",
        "while i <= num:\n",
        "    factorial *= i\n",
        "    i += 1\n",
        "\n",
        "print(\"Factorial of\", num, \"is\", factorial)\n"
      ],
      "metadata": {
        "id": "ZwFL-QKcAYVs",
        "outputId": "4a200235-4d7a-4cfe-f330-7dab7f4532b0",
        "colab": {
          "base_uri": "https://localhost:8080/"
        }
      },
      "execution_count": 22,
      "outputs": [
        {
          "output_type": "stream",
          "name": "stdout",
          "text": [
            "Enter a number: 10\n",
            "Factorial of 10 is 3628800\n"
          ]
        }
      ]
    }
  ]
}